{
 "cells": [
  {
   "cell_type": "markdown",
   "id": "2700d7a8",
   "metadata": {},
   "source": [
    "## Consistency"
   ]
  },
  {
   "cell_type": "code",
   "execution_count": 43,
   "id": "904a34d4",
   "metadata": {},
   "outputs": [],
   "source": [
    "C = 8 # Minimo de periodos en la definicion de Consistency\n",
    "minN = 30 # Minimo de periodos "
   ]
  },
  {
   "cell_type": "code",
   "execution_count": 16,
   "id": "82167e61",
   "metadata": {},
   "outputs": [],
   "source": [
    "import pandas as pd\n",
    "import os\n",
    "from tqdm import tqdm\n",
    "import numpy as np\n",
    "from datetime import datetime\n",
    "from dateutil import relativedelta\n",
    "import warnings\n",
    "warnings.filterwarnings('ignore')"
   ]
  },
  {
   "cell_type": "code",
   "execution_count": 27,
   "id": "c9918525",
   "metadata": {},
   "outputs": [
    {
     "name": "stdout",
     "output_type": "stream",
     "text": [
      "(173204, 19)\n"
     ]
    },
    {
     "data": {
      "text/html": [
       "<div>\n",
       "<style scoped>\n",
       "    .dataframe tbody tr th:only-of-type {\n",
       "        vertical-align: middle;\n",
       "    }\n",
       "\n",
       "    .dataframe tbody tr th {\n",
       "        vertical-align: top;\n",
       "    }\n",
       "\n",
       "    .dataframe thead th {\n",
       "        text-align: right;\n",
       "    }\n",
       "</style>\n",
       "<table border=\"1\" class=\"dataframe\">\n",
       "  <thead>\n",
       "    <tr style=\"text-align: right;\">\n",
       "      <th></th>\n",
       "      <th>date</th>\n",
       "      <th>code2</th>\n",
       "      <th>vol</th>\n",
       "      <th>gvkey_hscode6</th>\n",
       "      <th>month</th>\n",
       "      <th>quarter</th>\n",
       "      <th>period</th>\n",
       "      <th>1</th>\n",
       "      <th>2</th>\n",
       "      <th>3</th>\n",
       "      <th>4</th>\n",
       "      <th>vol_log</th>\n",
       "      <th>period_log</th>\n",
       "      <th>vol_log_hat</th>\n",
       "      <th>R</th>\n",
       "      <th>sigmaR</th>\n",
       "      <th>source1</th>\n",
       "      <th>vol%</th>\n",
       "      <th>gvkey_hscode6_date</th>\n",
       "    </tr>\n",
       "  </thead>\n",
       "  <tbody>\n",
       "    <tr>\n",
       "      <th>0</th>\n",
       "      <td>2010-01-01</td>\n",
       "      <td>87</td>\n",
       "      <td>14.00</td>\n",
       "      <td>1300_870323</td>\n",
       "      <td>1</td>\n",
       "      <td>1</td>\n",
       "      <td>4</td>\n",
       "      <td>1</td>\n",
       "      <td>0</td>\n",
       "      <td>0</td>\n",
       "      <td>0</td>\n",
       "      <td>3.906891</td>\n",
       "      <td>2.321928</td>\n",
       "      <td>2.629608</td>\n",
       "      <td>1.277283</td>\n",
       "      <td>0.000000</td>\n",
       "      <td>China</td>\n",
       "      <td>100.0</td>\n",
       "      <td>1300_870323_2010-01-01</td>\n",
       "    </tr>\n",
       "    <tr>\n",
       "      <th>1</th>\n",
       "      <td>2010-04-01</td>\n",
       "      <td>87</td>\n",
       "      <td>10.00</td>\n",
       "      <td>1300_870323</td>\n",
       "      <td>4</td>\n",
       "      <td>2</td>\n",
       "      <td>5</td>\n",
       "      <td>0</td>\n",
       "      <td>1</td>\n",
       "      <td>0</td>\n",
       "      <td>0</td>\n",
       "      <td>3.459432</td>\n",
       "      <td>2.584963</td>\n",
       "      <td>2.271375</td>\n",
       "      <td>1.188057</td>\n",
       "      <td>0.616335</td>\n",
       "      <td>China</td>\n",
       "      <td>100.0</td>\n",
       "      <td>1300_870323_2010-04-01</td>\n",
       "    </tr>\n",
       "    <tr>\n",
       "      <th>2</th>\n",
       "      <td>2011-01-01</td>\n",
       "      <td>87</td>\n",
       "      <td>0.82</td>\n",
       "      <td>1300_870323</td>\n",
       "      <td>1</td>\n",
       "      <td>1</td>\n",
       "      <td>8</td>\n",
       "      <td>1</td>\n",
       "      <td>0</td>\n",
       "      <td>0</td>\n",
       "      <td>0</td>\n",
       "      <td>0.863938</td>\n",
       "      <td>3.169925</td>\n",
       "      <td>2.272843</td>\n",
       "      <td>-1.408904</td>\n",
       "      <td>0.352145</td>\n",
       "      <td>China</td>\n",
       "      <td>100.0</td>\n",
       "      <td>1300_870323_2011-01-01</td>\n",
       "    </tr>\n",
       "    <tr>\n",
       "      <th>3</th>\n",
       "      <td>2011-04-01</td>\n",
       "      <td>87</td>\n",
       "      <td>1.79</td>\n",
       "      <td>1300_870323</td>\n",
       "      <td>4</td>\n",
       "      <td>2</td>\n",
       "      <td>9</td>\n",
       "      <td>0</td>\n",
       "      <td>1</td>\n",
       "      <td>0</td>\n",
       "      <td>0</td>\n",
       "      <td>1.480265</td>\n",
       "      <td>3.321928</td>\n",
       "      <td>1.961322</td>\n",
       "      <td>-0.481057</td>\n",
       "      <td>0.215767</td>\n",
       "      <td>China</td>\n",
       "      <td>100.0</td>\n",
       "      <td>1300_870323_2011-04-01</td>\n",
       "    </tr>\n",
       "    <tr>\n",
       "      <th>4</th>\n",
       "      <td>2011-07-01</td>\n",
       "      <td>87</td>\n",
       "      <td>3.21</td>\n",
       "      <td>1300_870323</td>\n",
       "      <td>7</td>\n",
       "      <td>3</td>\n",
       "      <td>10</td>\n",
       "      <td>0</td>\n",
       "      <td>0</td>\n",
       "      <td>1</td>\n",
       "      <td>0</td>\n",
       "      <td>2.073820</td>\n",
       "      <td>3.459432</td>\n",
       "      <td>2.578809</td>\n",
       "      <td>-0.504989</td>\n",
       "      <td>0.452585</td>\n",
       "      <td>China</td>\n",
       "      <td>100.0</td>\n",
       "      <td>1300_870323_2011-07-01</td>\n",
       "    </tr>\n",
       "  </tbody>\n",
       "</table>\n",
       "</div>"
      ],
      "text/plain": [
       "         date  code2    vol gvkey_hscode6  month  quarter  period  1  2  3  4  \\\n",
       "0  2010-01-01     87  14.00   1300_870323      1        1       4  1  0  0  0   \n",
       "1  2010-04-01     87  10.00   1300_870323      4        2       5  0  1  0  0   \n",
       "2  2011-01-01     87   0.82   1300_870323      1        1       8  1  0  0  0   \n",
       "3  2011-04-01     87   1.79   1300_870323      4        2       9  0  1  0  0   \n",
       "4  2011-07-01     87   3.21   1300_870323      7        3      10  0  0  1  0   \n",
       "\n",
       "    vol_log  period_log  vol_log_hat         R    sigmaR source1   vol%  \\\n",
       "0  3.906891    2.321928     2.629608  1.277283  0.000000   China  100.0   \n",
       "1  3.459432    2.584963     2.271375  1.188057  0.616335   China  100.0   \n",
       "2  0.863938    3.169925     2.272843 -1.408904  0.352145   China  100.0   \n",
       "3  1.480265    3.321928     1.961322 -0.481057  0.215767   China  100.0   \n",
       "4  2.073820    3.459432     2.578809 -0.504989  0.452585   China  100.0   \n",
       "\n",
       "       gvkey_hscode6_date  \n",
       "0  1300_870323_2010-01-01  \n",
       "1  1300_870323_2010-04-01  \n",
       "2  1300_870323_2011-01-01  \n",
       "3  1300_870323_2011-04-01  \n",
       "4  1300_870323_2011-07-01  "
      ]
     },
     "execution_count": 27,
     "metadata": {},
     "output_type": "execute_result"
    }
   ],
   "source": [
    "df_panel = pd.read_csv(os.path.join('DATA', 'panel.csv'))\n",
    "df_panel.drop(columns=['Unnamed: 0', 'gvkey', 'hscode6'], inplace=True)\n",
    "df_panel[\"gvkey_hscode6_date\"] = df_panel['gvkey_hscode6'].astype(str) +\"_\"+ df_panel[\"date\"].astype(str)\n",
    "print(df_panel.shape)\n",
    "df_panel.head()"
   ]
  },
  {
   "cell_type": "code",
   "execution_count": null,
   "id": "19660def",
   "metadata": {},
   "outputs": [],
   "source": [
    "# # ['Hong Kong', 'Taiwan'] == 'China'\n",
    "# df_source1.loc[df_source1['source1'] == \"Taiwan\", 'source1'] = 'China'\n",
    "# df_source1.loc[df_source1['source1'] == \"Hong Kong\", 'source1'] = 'China'"
   ]
  },
  {
   "cell_type": "code",
   "execution_count": 31,
   "id": "71496479",
   "metadata": {},
   "outputs": [
    {
     "name": "stdout",
     "output_type": "stream",
     "text": [
      "(514305, 4)\n"
     ]
    },
    {
     "data": {
      "text/html": [
       "<div>\n",
       "<style scoped>\n",
       "    .dataframe tbody tr th:only-of-type {\n",
       "        vertical-align: middle;\n",
       "    }\n",
       "\n",
       "    .dataframe tbody tr th {\n",
       "        vertical-align: top;\n",
       "    }\n",
       "\n",
       "    .dataframe thead th {\n",
       "        text-align: right;\n",
       "    }\n",
       "</style>\n",
       "<table border=\"1\" class=\"dataframe\">\n",
       "  <thead>\n",
       "    <tr style=\"text-align: right;\">\n",
       "      <th></th>\n",
       "      <th>date</th>\n",
       "      <th>source1</th>\n",
       "      <th>gvkey_hscode6</th>\n",
       "      <th>gvkey_hscode6_date</th>\n",
       "    </tr>\n",
       "  </thead>\n",
       "  <tbody>\n",
       "    <tr>\n",
       "      <th>3</th>\n",
       "      <td>2010-01-01</td>\n",
       "      <td>Hong Kong</td>\n",
       "      <td>1045_940360</td>\n",
       "      <td>1045_940360_2010-01-01</td>\n",
       "    </tr>\n",
       "    <tr>\n",
       "      <th>4</th>\n",
       "      <td>2010-10-01</td>\n",
       "      <td>Indonesia</td>\n",
       "      <td>1045_940360</td>\n",
       "      <td>1045_940360_2010-10-01</td>\n",
       "    </tr>\n",
       "    <tr>\n",
       "      <th>5</th>\n",
       "      <td>2011-01-01</td>\n",
       "      <td>Indonesia</td>\n",
       "      <td>1045_940360</td>\n",
       "      <td>1045_940360_2011-01-01</td>\n",
       "    </tr>\n",
       "    <tr>\n",
       "      <th>6</th>\n",
       "      <td>2011-04-01</td>\n",
       "      <td>Indonesia</td>\n",
       "      <td>1045_940360</td>\n",
       "      <td>1045_940360_2011-04-01</td>\n",
       "    </tr>\n",
       "    <tr>\n",
       "      <th>7</th>\n",
       "      <td>2011-07-01</td>\n",
       "      <td>Indonesia</td>\n",
       "      <td>1045_940360</td>\n",
       "      <td>1045_940360_2011-07-01</td>\n",
       "    </tr>\n",
       "  </tbody>\n",
       "</table>\n",
       "</div>"
      ],
      "text/plain": [
       "         date    source1 gvkey_hscode6      gvkey_hscode6_date\n",
       "3  2010-01-01  Hong Kong   1045_940360  1045_940360_2010-01-01\n",
       "4  2010-10-01  Indonesia   1045_940360  1045_940360_2010-10-01\n",
       "5  2011-01-01  Indonesia   1045_940360  1045_940360_2011-01-01\n",
       "6  2011-04-01  Indonesia   1045_940360  1045_940360_2011-04-01\n",
       "7  2011-07-01  Indonesia   1045_940360  1045_940360_2011-07-01"
      ]
     },
     "execution_count": 31,
     "metadata": {},
     "output_type": "execute_result"
    }
   ],
   "source": [
    "df_source1 = pd.read_csv(os.path.join('DATA', 'panel_source1.csv'))\n",
    "df_source1.drop(columns=['Unnamed: 0'], inplace=True)\n",
    "df_source1[\"gvkey_hscode6_date\"] = df_source1['gvkey_hscode6'].astype(str) +\"_\"+ df_source1[\"date\"].astype(str)\n",
    "df_source1 = df_source1[df_source1['gvkey_hscode6_date'].isin(df_panel[\"gvkey_hscode6_date\"])]\n",
    "print(df_source1.shape)\n",
    "df_source1.head()"
   ]
  },
  {
   "cell_type": "code",
   "execution_count": 32,
   "id": "ab4618b0",
   "metadata": {},
   "outputs": [
    {
     "name": "stdout",
     "output_type": "stream",
     "text": [
      "(395914, 9)\n"
     ]
    },
    {
     "data": {
      "text/html": [
       "<div>\n",
       "<style scoped>\n",
       "    .dataframe tbody tr th:only-of-type {\n",
       "        vertical-align: middle;\n",
       "    }\n",
       "\n",
       "    .dataframe tbody tr th {\n",
       "        vertical-align: top;\n",
       "    }\n",
       "\n",
       "    .dataframe thead th {\n",
       "        text-align: right;\n",
       "    }\n",
       "</style>\n",
       "<table border=\"1\" class=\"dataframe\">\n",
       "  <thead>\n",
       "    <tr style=\"text-align: right;\">\n",
       "      <th></th>\n",
       "      <th>gvkey</th>\n",
       "      <th>date</th>\n",
       "      <th>country</th>\n",
       "      <th>hscode6</th>\n",
       "      <th>code2</th>\n",
       "      <th>gvkey_hscode6</th>\n",
       "      <th>vol</th>\n",
       "      <th>vol%</th>\n",
       "      <th>gvkey_hscode6_date</th>\n",
       "    </tr>\n",
       "  </thead>\n",
       "  <tbody>\n",
       "    <tr>\n",
       "      <th>0</th>\n",
       "      <td>1045</td>\n",
       "      <td>2009-01-01</td>\n",
       "      <td>Indonesia</td>\n",
       "      <td>940360</td>\n",
       "      <td>94</td>\n",
       "      <td>1045_940360</td>\n",
       "      <td>5.00</td>\n",
       "      <td>100.0</td>\n",
       "      <td>1045_940360_2009-01-01</td>\n",
       "    </tr>\n",
       "    <tr>\n",
       "      <th>1</th>\n",
       "      <td>1045</td>\n",
       "      <td>2009-04-01</td>\n",
       "      <td>United Kingdom</td>\n",
       "      <td>940360</td>\n",
       "      <td>94</td>\n",
       "      <td>1045_940360</td>\n",
       "      <td>0.55</td>\n",
       "      <td>100.0</td>\n",
       "      <td>1045_940360_2009-04-01</td>\n",
       "    </tr>\n",
       "    <tr>\n",
       "      <th>2</th>\n",
       "      <td>1045</td>\n",
       "      <td>2009-07-01</td>\n",
       "      <td>China</td>\n",
       "      <td>940360</td>\n",
       "      <td>94</td>\n",
       "      <td>1045_940360</td>\n",
       "      <td>2.00</td>\n",
       "      <td>100.0</td>\n",
       "      <td>1045_940360_2009-07-01</td>\n",
       "    </tr>\n",
       "    <tr>\n",
       "      <th>3</th>\n",
       "      <td>1045</td>\n",
       "      <td>2010-01-01</td>\n",
       "      <td>China</td>\n",
       "      <td>940360</td>\n",
       "      <td>94</td>\n",
       "      <td>1045_940360</td>\n",
       "      <td>2.00</td>\n",
       "      <td>100.0</td>\n",
       "      <td>1045_940360_2010-01-01</td>\n",
       "    </tr>\n",
       "    <tr>\n",
       "      <th>4</th>\n",
       "      <td>1045</td>\n",
       "      <td>2010-10-01</td>\n",
       "      <td>Indonesia</td>\n",
       "      <td>940360</td>\n",
       "      <td>94</td>\n",
       "      <td>1045_940360</td>\n",
       "      <td>2.00</td>\n",
       "      <td>100.0</td>\n",
       "      <td>1045_940360_2010-10-01</td>\n",
       "    </tr>\n",
       "  </tbody>\n",
       "</table>\n",
       "</div>"
      ],
      "text/plain": [
       "   gvkey        date         country  hscode6  code2 gvkey_hscode6   vol  \\\n",
       "0   1045  2009-01-01       Indonesia   940360     94   1045_940360  5.00   \n",
       "1   1045  2009-04-01  United Kingdom   940360     94   1045_940360  0.55   \n",
       "2   1045  2009-07-01           China   940360     94   1045_940360  2.00   \n",
       "3   1045  2010-01-01           China   940360     94   1045_940360  2.00   \n",
       "4   1045  2010-10-01       Indonesia   940360     94   1045_940360  2.00   \n",
       "\n",
       "    vol%      gvkey_hscode6_date  \n",
       "0  100.0  1045_940360_2009-01-01  \n",
       "1  100.0  1045_940360_2009-04-01  \n",
       "2  100.0  1045_940360_2009-07-01  \n",
       "3  100.0  1045_940360_2010-01-01  \n",
       "4  100.0  1045_940360_2010-10-01  "
      ]
     },
     "execution_count": 32,
     "metadata": {},
     "output_type": "execute_result"
    }
   ],
   "source": [
    "df_country = pd.read_csv(os.path.join('DATA', 'panel_countries.csv'))\n",
    "df_country.drop(columns=['Unnamed: 0'], inplace=True)\n",
    "df_country[\"gvkey_hscode6_date\"] = df_country['gvkey_hscode6'].astype(str) +\"_\"+ df_country[\"date\"].astype(str)\n",
    "df_country = df_country[df_country['gvkey_hscode6_date'].isin(df_country[\"gvkey_hscode6_date\"])]\n",
    "print(df_country.shape)\n",
    "df_country.head()"
   ]
  },
  {
   "cell_type": "code",
   "execution_count": 63,
   "id": "87efe876",
   "metadata": {},
   "outputs": [],
   "source": [
    "def addSN_minN(df_panel, minN=30):\n",
    "    '''\n",
    "    Add columns N and S que asigna a cada gvkey_hscode6:\n",
    "    N: Numero de periodos observados con importaciones.\n",
    "    S: Numero de Sources (paises) distintos.\n",
    "    \n",
    "    Deja solo los gvkey_hscode6 con >=minN periods.\n",
    "    '''    \n",
    "    \n",
    "    # cantidad de periodos observados   \n",
    "    df_N = df_source1[['gvkey_hscode6', 'date']].groupby('gvkey_hscode6').count()\n",
    "    df_N.rename(columns={'date': 'N'}, inplace=True)\n",
    "    \n",
    "    # cantidad de paises\n",
    "    df_S = pd.DataFrame(df_source1[['gvkey_hscode6', 'source1']].groupby('gvkey_hscode6')['source1'].nunique())\n",
    "    df_S.rename(columns={'source1': 'S'}, inplace=True)\n",
    "    \n",
    "    df_SN = pd.concat([df_S, df_N], axis='columns')\n",
    "    \n",
    "    df_minN = df_SN[df_SN['N']>=minN].copy()\n",
    "    df_minN = df_minN.reset_index()\n",
    "\n",
    "    \n",
    "    df_source1_minN = df_source1[df_source1['gvkey_hscode6'].isin(df_minN['gvkey_hscode6'])]\n",
    "    df_source1_minN['S'] = df_source1_minN['gvkey_hscode6'].map(df_minN.set_index('gvkey_hscode6')[['S', 'N']].to_dict()['S'])\n",
    "    df_source1_minN['N'] = df_source1_minN['gvkey_hscode6'].map(df_minN.set_index('gvkey_hscode6')[['S', 'N']].to_dict()['N'])\n",
    "    df_source1_minN.drop(columns=['date', 'source1','gvkey_hscode6' ], inplace=True)\n",
    "    df_source1_minN.drop_duplicates(inplace=True)\n",
    "    \n",
    "#     df = df_panel[df_panel['gvkey_hscode6'].isin(list(df_source1_minN['gvkey_hscode6'].unique()))].copy()\n",
    "    df = pd.concat([df_panel.set_index(['gvkey_hscode6_date']), df_source1_minN.set_index(['gvkey_hscode6_date'])], axis='columns')\n",
    "    df = df.sort_values(by=['gvkey_hscode6', 'date'])\n",
    "    df.reset_index(inplace=True)\n",
    "\n",
    "    return df"
   ]
  },
  {
   "cell_type": "code",
   "execution_count": 65,
   "id": "24f1bfd0",
   "metadata": {},
   "outputs": [],
   "source": [
    "def get_antes_despues(df_panel, gvhs):\n",
    "    df = df_panel[df_panel['gvkey_hscode6']==gvhs].copy()\n",
    "    df = df.sort_values(by=['date'])\n",
    "    df = df[['gvkey_hscode6', 'date', 'source1']]\n",
    "\n",
    "    source1 = list(df['source1'].copy())\n",
    "\n",
    "    def despues(i):\n",
    "        j=1\n",
    "        source_list = source1[i+1:].copy()\n",
    "        for c in source_list:\n",
    "            if source1[i]!=c: break\n",
    "            j=j+1\n",
    "        return j\n",
    "\n",
    "    def antes(i):\n",
    "        j=1\n",
    "        source_list = source1[:i].copy()\n",
    "        source_list.reverse()\n",
    "        for c in source_list:\n",
    "            if source1[i]!=c: break\n",
    "            j=j+1\n",
    "        return j\n",
    "    \n",
    "    def cambio(i):\n",
    "        if i==0: j=0\n",
    "\n",
    "    df['despues'] = [despues(i) for i, x in enumerate(source1)]\n",
    "    df['antes'] = [antes(i) for i, x in enumerate(source1)]\n",
    "    \n",
    "    return df"
   ]
  },
  {
   "cell_type": "code",
   "execution_count": 67,
   "id": "c996e1b1",
   "metadata": {},
   "outputs": [],
   "source": [
    "def add_antes_despues(df_panel):\n",
    "    '''\n",
    "    Genera columnas: antes despues\n",
    "    para cada row ('gvkey_hscode6', 'date', 'source1'), \n",
    "    cuenta el numero de date consecutivos con el mismo source1 con fecha ANTERIOR (antes).\n",
    "    cuenta el numero de date consecutivos con el mismo source1 con fecha POSTERIOR (despues).\n",
    "    '''\n",
    "    df = pd.DataFrame()\n",
    "    for gvhs in tqdm(df_panel['gvkey_hscode6'].unique()):\n",
    "        df_ = get_antes_despues(df_panel, gvhs)\n",
    "        df = df.append(df_)\n",
    "\n",
    "    df.drop(columns=['source1'], inplace=True)\n",
    "\n",
    "    df_panel = pd.concat([df_panel.set_index(['gvkey_hscode6', 'date']), df.set_index(['gvkey_hscode6', 'date'])], axis='columns')\n",
    "    df_panel = df_panel.sort_values(by=['gvkey_hscode6', 'date'])\n",
    "    df_panel.reset_index(inplace=True)\n",
    "    return df_panel"
   ]
  },
  {
   "cell_type": "code",
   "execution_count": 68,
   "id": "ef179095",
   "metadata": {},
   "outputs": [
    {
     "name": "stderr",
     "output_type": "stream",
     "text": [
      "100%|██████████████████████████████████████████████████████████████████████████████| 5065/5065 [00:55<00:00, 91.79it/s]\n"
     ]
    },
    {
     "name": "stdout",
     "output_type": "stream",
     "text": [
      "Wall time: 55.5 s\n"
     ]
    },
    {
     "data": {
      "text/html": [
       "<div>\n",
       "<style scoped>\n",
       "    .dataframe tbody tr th:only-of-type {\n",
       "        vertical-align: middle;\n",
       "    }\n",
       "\n",
       "    .dataframe tbody tr th {\n",
       "        vertical-align: top;\n",
       "    }\n",
       "\n",
       "    .dataframe thead th {\n",
       "        text-align: right;\n",
       "    }\n",
       "</style>\n",
       "<table border=\"1\" class=\"dataframe\">\n",
       "  <thead>\n",
       "    <tr style=\"text-align: right;\">\n",
       "      <th></th>\n",
       "      <th>gvkey_hscode6</th>\n",
       "      <th>date</th>\n",
       "      <th>gvkey_hscode6_date</th>\n",
       "      <th>code2</th>\n",
       "      <th>vol</th>\n",
       "      <th>month</th>\n",
       "      <th>quarter</th>\n",
       "      <th>period</th>\n",
       "      <th>1</th>\n",
       "      <th>2</th>\n",
       "      <th>...</th>\n",
       "      <th>period_log</th>\n",
       "      <th>vol_log_hat</th>\n",
       "      <th>R</th>\n",
       "      <th>sigmaR</th>\n",
       "      <th>source1</th>\n",
       "      <th>vol%</th>\n",
       "      <th>S</th>\n",
       "      <th>N</th>\n",
       "      <th>despues</th>\n",
       "      <th>antes</th>\n",
       "    </tr>\n",
       "  </thead>\n",
       "  <tbody>\n",
       "    <tr>\n",
       "      <th>0</th>\n",
       "      <td>10000_850440</td>\n",
       "      <td>2010-01-01</td>\n",
       "      <td>10000_850440_2010-01-01</td>\n",
       "      <td>85</td>\n",
       "      <td>2.16</td>\n",
       "      <td>1</td>\n",
       "      <td>1</td>\n",
       "      <td>4</td>\n",
       "      <td>1</td>\n",
       "      <td>0</td>\n",
       "      <td>...</td>\n",
       "      <td>2.321928</td>\n",
       "      <td>1.777965</td>\n",
       "      <td>-0.118040</td>\n",
       "      <td>0.000000</td>\n",
       "      <td>Saint Kitts and Nevis</td>\n",
       "      <td>92.592593</td>\n",
       "      <td>6.0</td>\n",
       "      <td>71.0</td>\n",
       "      <td>10</td>\n",
       "      <td>1</td>\n",
       "    </tr>\n",
       "    <tr>\n",
       "      <th>1</th>\n",
       "      <td>10000_850440</td>\n",
       "      <td>2010-04-01</td>\n",
       "      <td>10000_850440_2010-04-01</td>\n",
       "      <td>85</td>\n",
       "      <td>2.19</td>\n",
       "      <td>4</td>\n",
       "      <td>2</td>\n",
       "      <td>5</td>\n",
       "      <td>0</td>\n",
       "      <td>1</td>\n",
       "      <td>...</td>\n",
       "      <td>2.584963</td>\n",
       "      <td>2.225620</td>\n",
       "      <td>-0.552064</td>\n",
       "      <td>0.167526</td>\n",
       "      <td>Saint Kitts and Nevis</td>\n",
       "      <td>91.324201</td>\n",
       "      <td>6.0</td>\n",
       "      <td>71.0</td>\n",
       "      <td>9</td>\n",
       "      <td>2</td>\n",
       "    </tr>\n",
       "    <tr>\n",
       "      <th>2</th>\n",
       "      <td>10000_850440</td>\n",
       "      <td>2010-07-01</td>\n",
       "      <td>10000_850440_2010-07-01</td>\n",
       "      <td>85</td>\n",
       "      <td>1.18</td>\n",
       "      <td>7</td>\n",
       "      <td>3</td>\n",
       "      <td>6</td>\n",
       "      <td>0</td>\n",
       "      <td>0</td>\n",
       "      <td>...</td>\n",
       "      <td>2.807355</td>\n",
       "      <td>1.479205</td>\n",
       "      <td>-0.354877</td>\n",
       "      <td>0.341660</td>\n",
       "      <td>Saint Kitts and Nevis</td>\n",
       "      <td>84.745763</td>\n",
       "      <td>6.0</td>\n",
       "      <td>71.0</td>\n",
       "      <td>8</td>\n",
       "      <td>3</td>\n",
       "    </tr>\n",
       "    <tr>\n",
       "      <th>3</th>\n",
       "      <td>10000_850440</td>\n",
       "      <td>2010-10-01</td>\n",
       "      <td>10000_850440_2010-10-01</td>\n",
       "      <td>85</td>\n",
       "      <td>4.00</td>\n",
       "      <td>10</td>\n",
       "      <td>4</td>\n",
       "      <td>7</td>\n",
       "      <td>0</td>\n",
       "      <td>0</td>\n",
       "      <td>...</td>\n",
       "      <td>3.000000</td>\n",
       "      <td>1.948614</td>\n",
       "      <td>0.373315</td>\n",
       "      <td>0.244375</td>\n",
       "      <td>Saint Kitts and Nevis</td>\n",
       "      <td>100.000000</td>\n",
       "      <td>6.0</td>\n",
       "      <td>71.0</td>\n",
       "      <td>7</td>\n",
       "      <td>4</td>\n",
       "    </tr>\n",
       "    <tr>\n",
       "      <th>4</th>\n",
       "      <td>10000_850440</td>\n",
       "      <td>2011-01-01</td>\n",
       "      <td>10000_850440_2011-01-01</td>\n",
       "      <td>85</td>\n",
       "      <td>3.16</td>\n",
       "      <td>1</td>\n",
       "      <td>1</td>\n",
       "      <td>8</td>\n",
       "      <td>1</td>\n",
       "      <td>0</td>\n",
       "      <td>...</td>\n",
       "      <td>3.169925</td>\n",
       "      <td>1.512157</td>\n",
       "      <td>0.544426</td>\n",
       "      <td>0.004050</td>\n",
       "      <td>Saint Kitts and Nevis</td>\n",
       "      <td>94.936709</td>\n",
       "      <td>6.0</td>\n",
       "      <td>71.0</td>\n",
       "      <td>6</td>\n",
       "      <td>5</td>\n",
       "    </tr>\n",
       "  </tbody>\n",
       "</table>\n",
       "<p>5 rows × 23 columns</p>\n",
       "</div>"
      ],
      "text/plain": [
       "  gvkey_hscode6        date       gvkey_hscode6_date  code2   vol  month  \\\n",
       "0  10000_850440  2010-01-01  10000_850440_2010-01-01     85  2.16      1   \n",
       "1  10000_850440  2010-04-01  10000_850440_2010-04-01     85  2.19      4   \n",
       "2  10000_850440  2010-07-01  10000_850440_2010-07-01     85  1.18      7   \n",
       "3  10000_850440  2010-10-01  10000_850440_2010-10-01     85  4.00     10   \n",
       "4  10000_850440  2011-01-01  10000_850440_2011-01-01     85  3.16      1   \n",
       "\n",
       "   quarter  period  1  2  ...  period_log  vol_log_hat         R    sigmaR  \\\n",
       "0        1       4  1  0  ...    2.321928     1.777965 -0.118040  0.000000   \n",
       "1        2       5  0  1  ...    2.584963     2.225620 -0.552064  0.167526   \n",
       "2        3       6  0  0  ...    2.807355     1.479205 -0.354877  0.341660   \n",
       "3        4       7  0  0  ...    3.000000     1.948614  0.373315  0.244375   \n",
       "4        1       8  1  0  ...    3.169925     1.512157  0.544426  0.004050   \n",
       "\n",
       "                 source1        vol%    S     N  despues  antes  \n",
       "0  Saint Kitts and Nevis   92.592593  6.0  71.0       10      1  \n",
       "1  Saint Kitts and Nevis   91.324201  6.0  71.0        9      2  \n",
       "2  Saint Kitts and Nevis   84.745763  6.0  71.0        8      3  \n",
       "3  Saint Kitts and Nevis  100.000000  6.0  71.0        7      4  \n",
       "4  Saint Kitts and Nevis   94.936709  6.0  71.0        6      5  \n",
       "\n",
       "[5 rows x 23 columns]"
      ]
     },
     "execution_count": 68,
     "metadata": {},
     "output_type": "execute_result"
    }
   ],
   "source": [
    "%%time\n",
    "df_panel = add_antes_despues(df_panel)\n",
    "df_panel.head()"
   ]
  },
  {
   "cell_type": "code",
   "execution_count": 71,
   "id": "91b11756",
   "metadata": {},
   "outputs": [],
   "source": [
    "def add_consistency(df_panel, C):\n",
    "    '''\n",
    "    Genera columna: consistency\n",
    "    para cada unit ('gvkey_hscode6' 'date'), C=1 if la data esta dentro de una Consistency. \n",
    "    seguidos de la misma source1.  \n",
    "    ''' \n",
    "    \n",
    "    def get_consistency(df, C):\n",
    "        despues = df.loc[:, 'despues'].copy()\n",
    "        consistency = []\n",
    "        despues_iter = iter(despues)\n",
    "\n",
    "        for x in despues_iter:\n",
    "            if x>=C: \n",
    "                consistency.extend([1]*int(x))\n",
    "                for i in range(int(x)-1): next(despues_iter)   \n",
    "            else: \n",
    "                consistency.extend([0])\n",
    "\n",
    "        df['consistency_' + str(C)] = consistency\n",
    "        return df\n",
    "\n",
    "\n",
    "    def add_consistency_panel(df_panel, C):\n",
    "        df = pd.DataFrame()\n",
    "        list_gvkey_hscode6 = list(df_panel['gvkey_hscode6'].unique())\n",
    "\n",
    "        for gvkey_hscode6 in tqdm(list_gvkey_hscode6):\n",
    "            df_ = df_panel[df_panel['gvkey_hscode6']==gvkey_hscode6]\n",
    "            df_ = get_consistency(df_, C)\n",
    "            df = df.append(df_)\n",
    "        return df\n",
    "    \n",
    "    \n",
    "    df = df_panel.copy()\n",
    "    df = add_consistency_panel(df, C)\n",
    "    \n",
    "    # agrego una columna 'C' que es igual a consistency\n",
    "    df['C'] = df[df.columns[df.columns.str.startswith('consistency')][0]]\n",
    "\n",
    "    return df"
   ]
  },
  {
   "cell_type": "code",
   "execution_count": 72,
   "id": "efdb58e0",
   "metadata": {},
   "outputs": [
    {
     "name": "stderr",
     "output_type": "stream",
     "text": [
      "100%|██████████████████████████████████████████████████████████████████████████████| 5065/5065 [03:14<00:00, 26.10it/s]"
     ]
    },
    {
     "name": "stdout",
     "output_type": "stream",
     "text": [
      "(173204, 25)\n",
      "Wall time: 3min 14s\n"
     ]
    },
    {
     "name": "stderr",
     "output_type": "stream",
     "text": [
      "\n"
     ]
    },
    {
     "data": {
      "text/html": [
       "<div>\n",
       "<style scoped>\n",
       "    .dataframe tbody tr th:only-of-type {\n",
       "        vertical-align: middle;\n",
       "    }\n",
       "\n",
       "    .dataframe tbody tr th {\n",
       "        vertical-align: top;\n",
       "    }\n",
       "\n",
       "    .dataframe thead th {\n",
       "        text-align: right;\n",
       "    }\n",
       "</style>\n",
       "<table border=\"1\" class=\"dataframe\">\n",
       "  <thead>\n",
       "    <tr style=\"text-align: right;\">\n",
       "      <th></th>\n",
       "      <th>gvkey_hscode6</th>\n",
       "      <th>date</th>\n",
       "      <th>gvkey_hscode6_date</th>\n",
       "      <th>code2</th>\n",
       "      <th>vol</th>\n",
       "      <th>month</th>\n",
       "      <th>quarter</th>\n",
       "      <th>period</th>\n",
       "      <th>1</th>\n",
       "      <th>2</th>\n",
       "      <th>...</th>\n",
       "      <th>R</th>\n",
       "      <th>sigmaR</th>\n",
       "      <th>source1</th>\n",
       "      <th>vol%</th>\n",
       "      <th>S</th>\n",
       "      <th>N</th>\n",
       "      <th>despues</th>\n",
       "      <th>antes</th>\n",
       "      <th>consistency_8</th>\n",
       "      <th>C</th>\n",
       "    </tr>\n",
       "  </thead>\n",
       "  <tbody>\n",
       "    <tr>\n",
       "      <th>0</th>\n",
       "      <td>10000_850440</td>\n",
       "      <td>2010-01-01</td>\n",
       "      <td>10000_850440_2010-01-01</td>\n",
       "      <td>85</td>\n",
       "      <td>2.16</td>\n",
       "      <td>1</td>\n",
       "      <td>1</td>\n",
       "      <td>4</td>\n",
       "      <td>1</td>\n",
       "      <td>0</td>\n",
       "      <td>...</td>\n",
       "      <td>-0.118040</td>\n",
       "      <td>0.000000</td>\n",
       "      <td>Saint Kitts and Nevis</td>\n",
       "      <td>92.592593</td>\n",
       "      <td>6.0</td>\n",
       "      <td>71.0</td>\n",
       "      <td>10</td>\n",
       "      <td>1</td>\n",
       "      <td>1</td>\n",
       "      <td>1</td>\n",
       "    </tr>\n",
       "    <tr>\n",
       "      <th>1</th>\n",
       "      <td>10000_850440</td>\n",
       "      <td>2010-04-01</td>\n",
       "      <td>10000_850440_2010-04-01</td>\n",
       "      <td>85</td>\n",
       "      <td>2.19</td>\n",
       "      <td>4</td>\n",
       "      <td>2</td>\n",
       "      <td>5</td>\n",
       "      <td>0</td>\n",
       "      <td>1</td>\n",
       "      <td>...</td>\n",
       "      <td>-0.552064</td>\n",
       "      <td>0.167526</td>\n",
       "      <td>Saint Kitts and Nevis</td>\n",
       "      <td>91.324201</td>\n",
       "      <td>6.0</td>\n",
       "      <td>71.0</td>\n",
       "      <td>9</td>\n",
       "      <td>2</td>\n",
       "      <td>1</td>\n",
       "      <td>1</td>\n",
       "    </tr>\n",
       "    <tr>\n",
       "      <th>2</th>\n",
       "      <td>10000_850440</td>\n",
       "      <td>2010-07-01</td>\n",
       "      <td>10000_850440_2010-07-01</td>\n",
       "      <td>85</td>\n",
       "      <td>1.18</td>\n",
       "      <td>7</td>\n",
       "      <td>3</td>\n",
       "      <td>6</td>\n",
       "      <td>0</td>\n",
       "      <td>0</td>\n",
       "      <td>...</td>\n",
       "      <td>-0.354877</td>\n",
       "      <td>0.341660</td>\n",
       "      <td>Saint Kitts and Nevis</td>\n",
       "      <td>84.745763</td>\n",
       "      <td>6.0</td>\n",
       "      <td>71.0</td>\n",
       "      <td>8</td>\n",
       "      <td>3</td>\n",
       "      <td>1</td>\n",
       "      <td>1</td>\n",
       "    </tr>\n",
       "  </tbody>\n",
       "</table>\n",
       "<p>3 rows × 25 columns</p>\n",
       "</div>"
      ],
      "text/plain": [
       "  gvkey_hscode6        date       gvkey_hscode6_date  code2   vol  month  \\\n",
       "0  10000_850440  2010-01-01  10000_850440_2010-01-01     85  2.16      1   \n",
       "1  10000_850440  2010-04-01  10000_850440_2010-04-01     85  2.19      4   \n",
       "2  10000_850440  2010-07-01  10000_850440_2010-07-01     85  1.18      7   \n",
       "\n",
       "   quarter  period  1  2  ...         R    sigmaR                source1  \\\n",
       "0        1       4  1  0  ... -0.118040  0.000000  Saint Kitts and Nevis   \n",
       "1        2       5  0  1  ... -0.552064  0.167526  Saint Kitts and Nevis   \n",
       "2        3       6  0  0  ... -0.354877  0.341660  Saint Kitts and Nevis   \n",
       "\n",
       "        vol%    S     N  despues antes  consistency_8  C  \n",
       "0  92.592593  6.0  71.0       10     1              1  1  \n",
       "1  91.324201  6.0  71.0        9     2              1  1  \n",
       "2  84.745763  6.0  71.0        8     3              1  1  \n",
       "\n",
       "[3 rows x 25 columns]"
      ]
     },
     "execution_count": 72,
     "metadata": {},
     "output_type": "execute_result"
    }
   ],
   "source": [
    "%%time\n",
    "df_consistency = add_consistency(df_panel, C)\n",
    "print(df_consistency.shape)\n",
    "df_consistency.head(3)"
   ]
  },
  {
   "cell_type": "code",
   "execution_count": 73,
   "id": "dcf5509e",
   "metadata": {},
   "outputs": [],
   "source": [
    "df_consistency.to_csv(os.path.join('DATA', 'panel_consistency.csv'))"
   ]
  },
  {
   "cell_type": "code",
   "execution_count": 74,
   "id": "44034913",
   "metadata": {},
   "outputs": [
    {
     "name": "stdout",
     "output_type": "stream",
     "text": [
      "(173204, 24)\n"
     ]
    },
    {
     "data": {
      "text/html": [
       "<div>\n",
       "<style scoped>\n",
       "    .dataframe tbody tr th:only-of-type {\n",
       "        vertical-align: middle;\n",
       "    }\n",
       "\n",
       "    .dataframe tbody tr th {\n",
       "        vertical-align: top;\n",
       "    }\n",
       "\n",
       "    .dataframe thead th {\n",
       "        text-align: right;\n",
       "    }\n",
       "</style>\n",
       "<table border=\"1\" class=\"dataframe\">\n",
       "  <thead>\n",
       "    <tr style=\"text-align: right;\">\n",
       "      <th></th>\n",
       "      <th>gvkey_hscode6</th>\n",
       "      <th>date</th>\n",
       "      <th>gvkey_hscode6_date</th>\n",
       "      <th>code2</th>\n",
       "      <th>vol</th>\n",
       "      <th>month</th>\n",
       "      <th>quarter</th>\n",
       "      <th>period</th>\n",
       "      <th>1</th>\n",
       "      <th>2</th>\n",
       "      <th>...</th>\n",
       "      <th>vol_log_hat</th>\n",
       "      <th>R</th>\n",
       "      <th>sigmaR</th>\n",
       "      <th>source1</th>\n",
       "      <th>vol%</th>\n",
       "      <th>S</th>\n",
       "      <th>N</th>\n",
       "      <th>despues</th>\n",
       "      <th>antes</th>\n",
       "      <th>C</th>\n",
       "    </tr>\n",
       "  </thead>\n",
       "  <tbody>\n",
       "    <tr>\n",
       "      <th>0</th>\n",
       "      <td>10000_850440</td>\n",
       "      <td>2010-01-01</td>\n",
       "      <td>10000_850440_2010-01-01</td>\n",
       "      <td>85</td>\n",
       "      <td>2.16</td>\n",
       "      <td>1</td>\n",
       "      <td>1</td>\n",
       "      <td>4</td>\n",
       "      <td>1</td>\n",
       "      <td>0</td>\n",
       "      <td>...</td>\n",
       "      <td>1.777965</td>\n",
       "      <td>-0.118040</td>\n",
       "      <td>0.000000</td>\n",
       "      <td>Saint Kitts and Nevis</td>\n",
       "      <td>92.592593</td>\n",
       "      <td>6.0</td>\n",
       "      <td>71.0</td>\n",
       "      <td>10</td>\n",
       "      <td>1</td>\n",
       "      <td>1</td>\n",
       "    </tr>\n",
       "    <tr>\n",
       "      <th>1</th>\n",
       "      <td>10000_850440</td>\n",
       "      <td>2010-04-01</td>\n",
       "      <td>10000_850440_2010-04-01</td>\n",
       "      <td>85</td>\n",
       "      <td>2.19</td>\n",
       "      <td>4</td>\n",
       "      <td>2</td>\n",
       "      <td>5</td>\n",
       "      <td>0</td>\n",
       "      <td>1</td>\n",
       "      <td>...</td>\n",
       "      <td>2.225620</td>\n",
       "      <td>-0.552064</td>\n",
       "      <td>0.167526</td>\n",
       "      <td>Saint Kitts and Nevis</td>\n",
       "      <td>91.324201</td>\n",
       "      <td>6.0</td>\n",
       "      <td>71.0</td>\n",
       "      <td>9</td>\n",
       "      <td>2</td>\n",
       "      <td>1</td>\n",
       "    </tr>\n",
       "    <tr>\n",
       "      <th>2</th>\n",
       "      <td>10000_850440</td>\n",
       "      <td>2010-07-01</td>\n",
       "      <td>10000_850440_2010-07-01</td>\n",
       "      <td>85</td>\n",
       "      <td>1.18</td>\n",
       "      <td>7</td>\n",
       "      <td>3</td>\n",
       "      <td>6</td>\n",
       "      <td>0</td>\n",
       "      <td>0</td>\n",
       "      <td>...</td>\n",
       "      <td>1.479205</td>\n",
       "      <td>-0.354877</td>\n",
       "      <td>0.341660</td>\n",
       "      <td>Saint Kitts and Nevis</td>\n",
       "      <td>84.745763</td>\n",
       "      <td>6.0</td>\n",
       "      <td>71.0</td>\n",
       "      <td>8</td>\n",
       "      <td>3</td>\n",
       "      <td>1</td>\n",
       "    </tr>\n",
       "  </tbody>\n",
       "</table>\n",
       "<p>3 rows × 24 columns</p>\n",
       "</div>"
      ],
      "text/plain": [
       "  gvkey_hscode6        date       gvkey_hscode6_date  code2   vol  month  \\\n",
       "0  10000_850440  2010-01-01  10000_850440_2010-01-01     85  2.16      1   \n",
       "1  10000_850440  2010-04-01  10000_850440_2010-04-01     85  2.19      4   \n",
       "2  10000_850440  2010-07-01  10000_850440_2010-07-01     85  1.18      7   \n",
       "\n",
       "   quarter  period  1  2  ...  vol_log_hat         R    sigmaR  \\\n",
       "0        1       4  1  0  ...     1.777965 -0.118040  0.000000   \n",
       "1        2       5  0  1  ...     2.225620 -0.552064  0.167526   \n",
       "2        3       6  0  0  ...     1.479205 -0.354877  0.341660   \n",
       "\n",
       "                 source1       vol%    S     N despues  antes  C  \n",
       "0  Saint Kitts and Nevis  92.592593  6.0  71.0      10      1  1  \n",
       "1  Saint Kitts and Nevis  91.324201  6.0  71.0       9      2  1  \n",
       "2  Saint Kitts and Nevis  84.745763  6.0  71.0       8      3  1  \n",
       "\n",
       "[3 rows x 24 columns]"
      ]
     },
     "execution_count": 74,
     "metadata": {},
     "output_type": "execute_result"
    }
   ],
   "source": [
    "df_panel = pd.read_csv(os.path.join('DATA', 'panel_consistency.csv'))\n",
    "df_panel.drop(columns=['Unnamed: 0', 'consistency_8'], inplace=True)\n",
    "print(df_panel.shape)\n",
    "df_panel.head(3)"
   ]
  },
  {
   "cell_type": "code",
   "execution_count": 75,
   "id": "905aa121",
   "metadata": {},
   "outputs": [],
   "source": [
    "def get_N():\n",
    "    df = df_panel[df_panel['C']==1][['gvkey_hscode6', 'source1']].groupby(['gvkey_hscode6']).nunique()\n",
    "    df.reset_index(inplace=True)\n",
    "    df.rename(columns={'source1': 'N'}, inplace=True)\n",
    "    dictio = {gvhs: n for gvhs, n in zip(df['gvkey_hscode6'], df['N'])}\n",
    "\n",
    "    N = dict()\n",
    "    N[1] = list(df['gvkey_hscode6'][df['N']==1].unique())\n",
    "    N[2] = list(df['gvkey_hscode6'][df['N']==2].unique())\n",
    "    N[3] = list(df['gvkey_hscode6'][df['N']==3].unique())\n",
    "    N[4] = list(df['gvkey_hscode6'][df['N']==4].unique())\n",
    "    N[5] = list(df['gvkey_hscode6'][df['N']==5].unique())\n",
    "    N[0] = list(set(df_panel['gvkey_hscode6'].unique()).difference(set(N[1])).difference(set(N[2])).difference(set(N[3])).difference(set(N[4])).difference(set(N[5])))\n",
    "\n",
    "    return N"
   ]
  },
  {
   "cell_type": "code",
   "execution_count": 76,
   "id": "22610a4b",
   "metadata": {},
   "outputs": [],
   "source": [
    "N = get_N()"
   ]
  },
  {
   "cell_type": "code",
   "execution_count": 77,
   "id": "de35a7c4",
   "metadata": {},
   "outputs": [
    {
     "name": "stdout",
     "output_type": "stream",
     "text": [
      "735 4094 233 3 0 0\n"
     ]
    }
   ],
   "source": [
    "print(len(N[0]), len(N[1]), len(N[2]), len(N[3]), len(N[4]), len(N[5]))"
   ]
  },
  {
   "cell_type": "code",
   "execution_count": 78,
   "id": "ef640ae4",
   "metadata": {},
   "outputs": [
    {
     "data": {
      "text/plain": [
       "5065"
      ]
     },
     "execution_count": 78,
     "metadata": {},
     "output_type": "execute_result"
    }
   ],
   "source": [
    "len(N[0]) + len(N[1]) + len(N[2]) + len(N[3]) + len(N[4]) + len(N[5])"
   ]
  },
  {
   "cell_type": "code",
   "execution_count": 79,
   "id": "b5b74a3e",
   "metadata": {},
   "outputs": [
    {
     "data": {
      "text/plain": [
       "5065"
      ]
     },
     "execution_count": 79,
     "metadata": {},
     "output_type": "execute_result"
    }
   ],
   "source": [
    "len(df_panel['gvkey_hscode6'].unique())"
   ]
  },
  {
   "cell_type": "code",
   "execution_count": 80,
   "id": "f0b1599c",
   "metadata": {},
   "outputs": [],
   "source": [
    "def gen_df_source12():\n",
    "    '''\n",
    "    Genera columna: consistency\n",
    "    para cada ('gvkey_hscode6' 'date'), consistency=1 if la data esta dentro de un periodo de imports >=C \n",
    "    seguidos de la misma source1.  \n",
    "    '''  \n",
    "\n",
    "    # lista de units con 2 Consistency de distinto country\n",
    "    lista = []\n",
    "    for gvkey in N[2]:\n",
    "        df = df_panel[df_panel['gvkey_hscode6']==gvkey].copy()\n",
    "        sources = list(df[df['C']==1]['source1'].unique())\n",
    "        if len(sources)==1: continue\n",
    "        lista.append(gvkey)\n",
    "\n",
    "    df_panel2 = df_panel[np.logical_and(df_panel['gvkey_hscode6'].isin(N[2]), df_panel['C']==1)].copy()\n",
    "\n",
    "    df = df_panel2[['gvkey_hscode6', 'source1', 'date']].groupby(['gvkey_hscode6', 'source1']).first()\n",
    "    df.reset_index(inplace=True)\n",
    "    df_source1 = df[['gvkey_hscode6', 'source1']].copy()\n",
    "\n",
    "    dictio = dict()\n",
    "    for gv_hs in df_source1['gvkey_hscode6'].unique():\n",
    "        country = list(df_source1[df_source1['gvkey_hscode6']==gv_hs]['source1'])\n",
    "        dates1 = list(df_panel2[np.logical_and(df_panel2['gvkey_hscode6']==gv_hs, df_panel2['source1']==country[0])]['date'].copy())\n",
    "        dates2 = list(df_panel2[np.logical_and(df_panel2['gvkey_hscode6']==gv_hs, df_panel2['source1']==country[1])]['date'].copy())\n",
    "        if dates1[-1] < dates2[0]: dictio[gv_hs] = [country[0], country[1]]\n",
    "        if dates1[0] > dates2[-1]: dictio[gv_hs] = [country[1], country[0]]\n",
    "\n",
    "    df = pd.DataFrame()\n",
    "    df['gvkey_hscode6'] = dictio.keys()\n",
    "    df['source1'] = [lista[0] for lista in dictio.values()]\n",
    "    df['source2'] = [lista[1] for lista in dictio.values()]\n",
    "    \n",
    "    return df"
   ]
  },
  {
   "cell_type": "code",
   "execution_count": 81,
   "id": "2640acf4",
   "metadata": {},
   "outputs": [
    {
     "name": "stdout",
     "output_type": "stream",
     "text": [
      "(226, 3)\n",
      "Wall time: 2.05 s\n"
     ]
    },
    {
     "data": {
      "text/html": [
       "<div>\n",
       "<style scoped>\n",
       "    .dataframe tbody tr th:only-of-type {\n",
       "        vertical-align: middle;\n",
       "    }\n",
       "\n",
       "    .dataframe tbody tr th {\n",
       "        vertical-align: top;\n",
       "    }\n",
       "\n",
       "    .dataframe thead th {\n",
       "        text-align: right;\n",
       "    }\n",
       "</style>\n",
       "<table border=\"1\" class=\"dataframe\">\n",
       "  <thead>\n",
       "    <tr style=\"text-align: right;\">\n",
       "      <th></th>\n",
       "      <th>gvkey_hscode6</th>\n",
       "      <th>source1</th>\n",
       "      <th>source2</th>\n",
       "    </tr>\n",
       "  </thead>\n",
       "  <tbody>\n",
       "    <tr>\n",
       "      <th>0</th>\n",
       "      <td>102523_851290</td>\n",
       "      <td>Denmark</td>\n",
       "      <td>China</td>\n",
       "    </tr>\n",
       "    <tr>\n",
       "      <th>1</th>\n",
       "      <td>102523_851629</td>\n",
       "      <td>Germany</td>\n",
       "      <td>Ireland</td>\n",
       "    </tr>\n",
       "    <tr>\n",
       "      <th>2</th>\n",
       "      <td>102523_854430</td>\n",
       "      <td>China</td>\n",
       "      <td>Japan</td>\n",
       "    </tr>\n",
       "    <tr>\n",
       "      <th>3</th>\n",
       "      <td>10275_853210</td>\n",
       "      <td>India</td>\n",
       "      <td>China</td>\n",
       "    </tr>\n",
       "    <tr>\n",
       "      <th>4</th>\n",
       "      <td>10443_870880</td>\n",
       "      <td>Argentina</td>\n",
       "      <td>China</td>\n",
       "    </tr>\n",
       "  </tbody>\n",
       "</table>\n",
       "</div>"
      ],
      "text/plain": [
       "   gvkey_hscode6    source1  source2\n",
       "0  102523_851290    Denmark    China\n",
       "1  102523_851629    Germany  Ireland\n",
       "2  102523_854430      China    Japan\n",
       "3   10275_853210      India    China\n",
       "4   10443_870880  Argentina    China"
      ]
     },
     "execution_count": 81,
     "metadata": {},
     "output_type": "execute_result"
    }
   ],
   "source": [
    "%%time\n",
    "df_source12 = gen_df_source12()\n",
    "print(df_source12.shape)\n",
    "df_source12.head()"
   ]
  },
  {
   "cell_type": "code",
   "execution_count": null,
   "id": "981aae18",
   "metadata": {},
   "outputs": [],
   "source": [
    "# df_panel['I'] = 0\n",
    "# for index, row in df_source12[df_source12['source1']=='China'].iterrows():\n",
    "#     df_panel.loc[np.logical_and(df_panel[\"gvkey_hscode6\"]==row['gvkey_hscode6'], df_panel[\"source1\"]=='China'), 'I'] = 1\n",
    "# df_panel['I'] = df_panel['I'] * df_panel['C']"
   ]
  },
  {
   "cell_type": "code",
   "execution_count": 82,
   "id": "2e0f5ed5",
   "metadata": {},
   "outputs": [],
   "source": [
    "df_panel['I'] = 0\n",
    "df_panel.loc[df_panel[\"source1\"]=='China', 'I'] = 1"
   ]
  },
  {
   "cell_type": "code",
   "execution_count": 83,
   "id": "3dadfc69",
   "metadata": {},
   "outputs": [],
   "source": [
    "df_panel[['gvkey', 'hscode6']] = df_panel['gvkey_hscode6'].str.split(\"_\", expand=True)"
   ]
  },
  {
   "cell_type": "code",
   "execution_count": 84,
   "id": "7f565f47",
   "metadata": {},
   "outputs": [],
   "source": [
    "df_panel.to_csv(os.path.join('DATA', 'df_panel__.csv'))"
   ]
  },
  {
   "cell_type": "code",
   "execution_count": null,
   "id": "e13f8bc2",
   "metadata": {},
   "outputs": [],
   "source": []
  },
  {
   "cell_type": "code",
   "execution_count": 85,
   "id": "fa6ef31e",
   "metadata": {},
   "outputs": [
    {
     "data": {
      "text/plain": [
       "<AxesSubplot:xlabel='date'>"
      ]
     },
     "execution_count": 85,
     "metadata": {},
     "output_type": "execute_result"
    },
    {
     "data": {
      "image/png": "[encoded data removed]",
      "text/plain": [
       "<Figure size 720x360 with 1 Axes>"
      ]
     },
     "metadata": {
      "needs_background": "light"
     },
     "output_type": "display_data"
    }
   ],
   "source": [
    "df_panel[['date', 'sigmaR']].groupby('date').count().plot(kind='bar', figsize=(10,5))"
   ]
  },
  {
   "cell_type": "code",
   "execution_count": 88,
   "id": "3eeabfc3",
   "metadata": {},
   "outputs": [
    {
     "data": {
      "text/plain": [
       "<AxesSubplot:xlabel='date'>"
      ]
     },
     "execution_count": 88,
     "metadata": {},
     "output_type": "execute_result"
    },
    {
     "data": {
      "image/png": "[encoded data removed]",
      "text/plain": [
       "<Figure size 720x360 with 1 Axes>"
      ]
     },
     "metadata": {
      "needs_background": "light"
     },
     "output_type": "display_data"
    }
   ],
   "source": [
    "df_panel[['date', 'sigmaR']].groupby('date').mean()[4:].plot(kind='bar', figsize=(10,5))"
   ]
  },
  {
   "cell_type": "code",
   "execution_count": 89,
   "id": "5e4093e1",
   "metadata": {
    "scrolled": false
   },
   "outputs": [
    {
     "data": {
      "image/png": "[encoded data removed]",
      "text/plain": [
       "<Figure size 720x360 with 1 Axes>"
      ]
     },
     "metadata": {
      "needs_background": "light"
     },
     "output_type": "display_data"
    },
    {
     "data": {
      "image/png": "[encoded data removed]",
      "text/plain": [
       "<Figure size 720x360 with 1 Axes>"
      ]
     },
     "metadata": {
      "needs_background": "light"
     },
     "output_type": "display_data"
    },
    {
     "data": {
      "image/png": "[encoded data removed]",
      "text/plain": [
       "<Figure size 720x360 with 1 Axes>"
      ]
     },
     "metadata": {
      "needs_background": "light"
     },
     "output_type": "display_data"
    },
    {
     "data": {
      "image/png": "[encoded data removed]",
      "text/plain": [
       "<Figure size 720x360 with 1 Axes>"
      ]
     },
     "metadata": {
      "needs_background": "light"
     },
     "output_type": "display_data"
    },
    {
     "data": {
      "image/png": "[encoded data removed]",
      "text/plain": [
       "<Figure size 720x360 with 1 Axes>"
      ]
     },
     "metadata": {
      "needs_background": "light"
     },
     "output_type": "display_data"
    },
    {
     "data": {
      "image/png": "[encoded data removed]",
      "text/plain": [
       "<Figure size 720x360 with 1 Axes>"
      ]
     },
     "metadata": {
      "needs_background": "light"
     },
     "output_type": "display_data"
    },
    {
     "data": {
      "image/png": "[encoded data removed]",
      "text/plain": [
       "<Figure size 720x360 with 1 Axes>"
      ]
     },
     "metadata": {
      "needs_background": "light"
     },
     "output_type": "display_data"
    },
    {
     "data": {
      "image/png": "[encoded data removed]",
      "text/plain": [
       "<Figure size 720x360 with 1 Axes>"
      ]
     },
     "metadata": {
      "needs_background": "light"
     },
     "output_type": "display_data"
    },
    {
     "data": {
      "image/png": "[encoded data removed]",
      "text/plain": [
       "<Figure size 720x360 with 1 Axes>"
      ]
     },
     "metadata": {
      "needs_background": "light"
     },
     "output_type": "display_data"
    }
   ],
   "source": [
    "for code2 in df_panel['code2'].unique():\n",
    "    df_panel[['date', 'sigmaR']][df_panel['code2']==code2].groupby('date').mean()[4:].plot(kind='bar', figsize=(10,5))"
   ]
  },
  {
   "cell_type": "code",
   "execution_count": 90,
   "id": "34751198",
   "metadata": {},
   "outputs": [],
   "source": [
    "j = '11672_940520'"
   ]
  },
  {
   "cell_type": "code",
   "execution_count": 95,
   "id": "ebde5261",
   "metadata": {},
   "outputs": [
    {
     "data": {
      "text/plain": [
       "18065     79.518072\n",
       "18066    100.000000\n",
       "18067    100.000000\n",
       "18068    100.000000\n",
       "18069     80.645161\n",
       "18070    100.000000\n",
       "18071    100.000000\n",
       "18072    100.000000\n",
       "18073    100.000000\n",
       "18074    100.000000\n",
       "18075    100.000000\n",
       "18076     86.887509\n",
       "18077     36.708861\n",
       "18078     65.005028\n",
       "18079     57.977528\n",
       "18080     51.846877\n",
       "18081     61.028730\n",
       "18082     64.841499\n",
       "18083     72.098214\n",
       "18084     93.094089\n",
       "18085     87.172076\n",
       "18086     85.198797\n",
       "18087     81.929379\n",
       "18088     89.603188\n",
       "18089    100.000000\n",
       "18090    100.000000\n",
       "18091    100.000000\n",
       "18092    100.000000\n",
       "18093    100.000000\n",
       "18094    100.000000\n",
       "18095     96.948959\n",
       "18096    100.000000\n",
       "Name: vol%, dtype: float64"
      ]
     },
     "execution_count": 95,
     "metadata": {},
     "output_type": "execute_result"
    }
   ],
   "source": [
    "df_panel[df_panel['gvkey_hscode6']==j]['vol%']"
   ]
  },
  {
   "cell_type": "code",
   "execution_count": null,
   "id": "0aaab9fc",
   "metadata": {},
   "outputs": [],
   "source": []
  },
  {
   "cell_type": "code",
   "execution_count": null,
   "id": "0f8e8694",
   "metadata": {},
   "outputs": [],
   "source": []
  },
  {
   "cell_type": "code",
   "execution_count": null,
   "id": "949ea9f4",
   "metadata": {},
   "outputs": [],
   "source": []
  },
  {
   "cell_type": "code",
   "execution_count": null,
   "id": "95723f2e",
   "metadata": {},
   "outputs": [],
   "source": []
  }
 ],
 "metadata": {
  "kernelspec": {
   "display_name": "Python 3",
   "language": "python",
   "name": "python3"
  },
  "language_info": {
   "codemirror_mode": {
    "name": "ipython",
    "version": 3
   },
   "file_extension": ".py",
   "mimetype": "text/x-python",
   "name": "python",
   "nbconvert_exporter": "python",
   "pygments_lexer": "ipython3",
   "version": "3.8.8"
  }
 },
 "nbformat": 4,
 "nbformat_minor": 5
}
