{
 "cells": [
  {
   "cell_type": "code",
   "execution_count": 1,
   "id": "75d75854",
   "metadata": {},
   "outputs": [],
   "source": [
    "# minN: cantidad de observaciones minima que debe tener una gvkey_hscode6 para entrar en el panel\n",
    "minN = 30"
   ]
  },
  {
   "cell_type": "code",
   "execution_count": 2,
   "id": "59277123",
   "metadata": {},
   "outputs": [],
   "source": [
    "measure = 'volumeteu'\n",
    "period = 'Q'\n",
    "source = 'NO'\n",
    "hscode6 = True"
   ]
  },
  {
   "cell_type": "code",
   "execution_count": 3,
   "id": "e1c12083",
   "metadata": {},
   "outputs": [],
   "source": [
    "import numpy as np\n",
    "import pandas as pd\n",
    "import matplotlib.pyplot as plt\n",
    "from tqdm import tqdm\n",
    "import statsmodels.api as sm\n",
    "import json\n",
    "import os\n",
    "from get_plot_dict import get_plot_dict\n",
    "from tqdm import tqdm\n",
    "import warnings\n",
    "warnings.filterwarnings('ignore')\n",
    "from datequarter import DateQuarter\n",
    "import datetime\n",
    "import math\n",
    "import numpy as np\n",
    "from sklearn.linear_model import LinearRegression"
   ]
  },
  {
   "cell_type": "code",
   "execution_count": 4,
   "id": "86cdd5a2",
   "metadata": {},
   "outputs": [],
   "source": [
    "def get_sector_list(df, code2):\n",
    "    \"\"\" de df, gets all the hscode6 que empiezan con code2 \"\"\"\n",
    "    hscode6_list = [x for x in map(str, df['hscode6'].unique()) if x.startswith(code2)]\n",
    "    hscode6_array = [int(i) for i in hscode6_list]\n",
    "    return hscode6_array\n",
    "\n",
    "\n",
    "def get_panjiva():\n",
    "    \"\"\" Data PANJIVA \"\"\"\n",
    "    df = pd.read_csv('portof(un)lading/panjivausimport_imputevalue_shippingtime_yq.csv')\n",
    "    df = df[['gvkey', 'year', 'quarter', 'hscode6', 'shpcountry', 'valueofgoodsusd_new', 'volumeteu', 'weightkg']]\n",
    "    df.drop(columns=['weightkg', 'valueofgoodsusd_new'], inplace=True)\n",
    "    return df\n",
    "\n",
    "\n",
    "def get_data_continent(df):\n",
    "    df.loc[list(map(lambda country: country.startswith('Congo'), df['shpcountry'])), 'shpcountry'] = 'Congo'\n",
    "    df.loc[list(map(lambda country: country.startswith('Micronesia'), df['shpcountry'])), 'shpcountry'] = 'Micronesia'\n",
    "    df.loc[list(map(lambda country: country.startswith('Moldova'), df['shpcountry'])), 'shpcountry'] = 'Moldova'\n",
    "    df.loc[list(map(lambda country: country.startswith('Micronesia'), df['shpcountry'])), 'shpcountry'] = 'Micronesia'\n",
    "    df.loc[list(map(lambda country: country.startswith('Virgin Islands (U.S.)'), df['shpcountry'])), 'shpcountry'] = 'United States Virgin Islands'\n",
    "    df.loc[list(map(lambda country: country.startswith('Virgin Islands (British)'), df['shpcountry'])), 'shpcountry'] = 'British Virgin Islands'\n",
    "    df.loc[list(map(lambda country: country.startswith('Samoa'), df['shpcountry'])), 'shpcountry'] = 'Samoa'\n",
    "\n",
    "    country_continent = pd.read_csv('country_continent.csv')\n",
    "    df = df.merge(country_continent, left_on='shpcountry', right_on='COUNTRY', how='left', suffixes=None)  \n",
    "    df['source'] = 'Rest of the World'\n",
    "    df.loc[(df['CONTINENT'] == 'Asia', 'source')] = 'Rest of Asia'\n",
    "    df.loc[(df['shpcountry'] == 'China', 'source')] = 'China'\n",
    "    df.loc[(df['CONTINENT'] == 'Europe', 'source')] = 'Europe'\n",
    "    return df\n",
    "\n",
    "\n",
    "def get_data_sector(df, code6):\n",
    "   \n",
    "    df['hscode6_str'] = df['hscode6'].astype(str)\n",
    "    df['hscode4_str'] = df['hscode6_str'].str.slice(stop=3)\n",
    "    df['hscode4'] = df['hscode4_str'].astype(int)\n",
    "    \n",
    "    df = df[df['hscode6'].isin(code6)]\n",
    "    \n",
    "    df[\"qs_\"] = list(map(DateQuarter,df[\"year\"],df[\"quarter\"]))\n",
    "    df['qs'] = df['year'].astype(str) +'-Q'+ df['quarter'].astype(str) \n",
    "    df['date'] = pd.PeriodIndex(df['qs'], freq='Q').to_timestamp()\n",
    "    return df"
   ]
  },
  {
   "cell_type": "code",
   "execution_count": 5,
   "id": "048302cc",
   "metadata": {},
   "outputs": [],
   "source": [
    "def get_data(df_panjiva, code2, measure='volumeteu', hscode6=True, period='Q', source='country', years=[2009,2019]):\n",
    "    \"\"\" \n",
    "    measure = 'volumeteu', 'weightkg'\n",
    "    hscode6 = True, False\n",
    "    period = 'Y', 'Q'\n",
    "    source = 'continent', 'country', 'NO'\n",
    "    \"\"\"\n",
    "    \n",
    "    code2_name = hscode2[code2]\n",
    "    code6 = get_sector_list(df_panjiva, code2)\n",
    "    \n",
    "    df = get_data_sector(df_panjiva, code6)\n",
    "    df = get_data_continent(df)    \n",
    "    df.rename(columns={\"COUNTRY\": \"country\", \"CONTINENT\": \"continent\"}, inplace=True)\n",
    "    \n",
    "    df = df[df.year>=years[0]]\n",
    "    df = df[df.year<=years[1]]\n",
    "    \n",
    "    period_name = lambda period: 'date' if period=='Q' else 'year'\n",
    "    \n",
    "    cols = ['gvkey', period_name(period), measure, \"country\"]\n",
    "    \n",
    "    if hscode6: cols = cols + ['hscode6']\n",
    "    if source !='NO': cols = cols + [source]       \n",
    "    \n",
    "    df = df[cols]\n",
    "    \n",
    "    cols.remove('volumeteu')\n",
    "    \n",
    "    df = df.groupby(cols).sum() \n",
    "    df.reset_index(inplace=True)\n",
    "\n",
    "    df = df[df.volumeteu!=0]\n",
    "    df['code2'] = code2\n",
    "    df.rename(columns={\"volumeteu\": \"vol\"}, inplace=True)\n",
    "    \n",
    "    return df\n",
    "\n",
    "\n",
    "def get_filename(code2, measure, hscode6, period, source):\n",
    "    \"\"\" Genera el nombre del archivo para guardar\"\"\"\n",
    "    bol_hscode6 = lambda bol: '_code6' if int(hscode6) else ''\n",
    "    bol_source = lambda source: '_' + source if source != 'NO' else ''\n",
    "    bol_measure = lambda source: '_' + 'vol' if measure == 'volumeteu' else ''\n",
    "    filename = 'panel' +bol_source(source)+bol_hscode6(hscode6)+'_'+period.lower()+bol_measure(measure)+'_'+code2+'.csv'\n",
    "    return filename"
   ]
  },
  {
   "cell_type": "code",
   "execution_count": 6,
   "id": "9c702910",
   "metadata": {},
   "outputs": [],
   "source": [
    "def gen_df_vol():\n",
    "    for code2 in tqdm(['87','64','85','94','63','62','61','59','95']):\n",
    "        df = get_data(df_panjiva, code2, measure=measure, hscode6=hscode6, period=period, source=source, years=[2009,2019])\n",
    "        df = df.groupby(['gvkey', 'hscode6','date', 'code2']).sum()\n",
    "        df.reset_index(inplace=True)\n",
    "        filename = get_filename(code2, measure, hscode6, period, source=source)\n",
    "        df.to_csv(os.path.join('DATA', filename))"
   ]
  },
  {
   "cell_type": "code",
   "execution_count": 7,
   "id": "e42aba63",
   "metadata": {},
   "outputs": [],
   "source": [
    "def get_df_vol():\n",
    "    df = pd.DataFrame()\n",
    "    for code2 in ['87','64','85','94','63','62','61','59','95']:\n",
    "        filename = get_filename(code2, measure, hscode6, period, source=source)\n",
    "        df_ = pd.read_csv(os.path.join('DATA', filename))  \n",
    "        df_.drop(columns=['Unnamed: 0'], inplace=True)\n",
    "        df = df.append(df_)\n",
    "    return df"
   ]
  },
  {
   "cell_type": "code",
   "execution_count": 8,
   "id": "b57a500d",
   "metadata": {},
   "outputs": [],
   "source": [
    "def get_data_code6(df, minN=30):\n",
    "    \"\"\" Data gvkey_hscode6 con >=T periodos observados.\"\"\"\n",
    "\n",
    "    df[\"gvkey_hscode6\"] = df['gvkey'].astype(str) +\"_\"+ df[\"hscode6\"].astype(str)\n",
    "    \n",
    "    \n",
    "    def panel_N(df_gvkey_hscode6, minN=30):\n",
    "        \"\"\" Cantidad de Obs. para cada gvkey_hscode6.\"\"\"\n",
    "\n",
    "        series = df_gvkey_hscode6['gvkey_hscode6'].value_counts()\n",
    "        panel = pd.DataFrame(series)\n",
    "        panel.rename(columns={'gvkey_hscode6': \"N\"}, inplace=True)\n",
    "        panel['gvkey_hscode6'] = panel.index\n",
    "\n",
    "        panel[['gvkey', 'hscode6']] = panel['gvkey_hscode6'].str.split(\"_\", expand=True)\n",
    "        panel = panel[panel['N']>=minN]\n",
    "\n",
    "        df = df_gvkey_hscode6[df_gvkey_hscode6['gvkey_hscode6'].isin(panel['gvkey_hscode6'])]\n",
    "\n",
    "        return df\n",
    "    \n",
    "    \n",
    "    df = panel_N(df, minN)\n",
    "    \n",
    "    df['month'] = pd.DatetimeIndex(df['date']).month\n",
    "    df['quarter']= df['month'].map({1:1, 4:2, 7:3, 10:4})\n",
    "    \n",
    "    dates = list(df['date'].unique())\n",
    "    dates.sort()\n",
    "    df_dates = pd.DataFrame(dates, columns=['fecha'])\n",
    "    df_dates['t'] = df_dates.index\n",
    "    fechas_t = {k:v for (k,v) in zip(df_dates['fecha'], df_dates['t'])}\n",
    "\n",
    "    df['period']= df['date'].map(fechas_t)\n",
    "    \n",
    "    df[['1', '2', '3', '4']] = pd.get_dummies(df['quarter'])\n",
    "    df['vol_log'] = np.log2(df['vol']+1)\n",
    "    df['period_log'] = np.log2(df['period']+1)\n",
    "    \n",
    "    return df"
   ]
  },
  {
   "cell_type": "code",
   "execution_count": 9,
   "id": "8a1be9ac",
   "metadata": {},
   "outputs": [],
   "source": [
    "def get_sigmaR(df):\n",
    "    X = df[['period_log', '1', '2', '3', '4']]\n",
    "    y = df['vol_log']\n",
    "    reg = LinearRegression().fit(X, y)\n",
    "    df['vol_log_hat'] = reg.predict(X)\n",
    "    df['R'] = df['vol_log'] - df['vol_log_hat']\n",
    "    \n",
    "    R = np.array(df['R'])\n",
    "\n",
    "    meanR = np.zeros_like(R)\n",
    "    meanR[0] = R[0]\n",
    "    meanR[1] = np.mean(R[0:2])\n",
    "    meanR[2] = np.mean(R[0:3])\n",
    "    meanR[3] = np.mean(R[0:4])\n",
    "    for t in range(4, len(R)):\n",
    "        meanR[t] = np.mean(R[t-3:t+1])    \n",
    "\n",
    "    sumR = np.zeros_like(R)\n",
    "    sumR[0] = R[0]\n",
    "    sumR[1] = np.sum(R[0:2])\n",
    "    sumR[2] = np.sum(R[0:3])\n",
    "    sumR[3] = np.sum(R[0:4])\n",
    "    for t in range(4, len(R)):\n",
    "        sumR[t] = np.sum(R[t-3:t+1])  \n",
    "\n",
    "    sigmaR = [math.sqrt(((s-m)**2)/4) for (s,m) in zip(sumR, meanR)]\n",
    "\n",
    "    df['sigmaR'] = sigmaR\n",
    "    return df"
   ]
  },
  {
   "cell_type": "code",
   "execution_count": 30,
   "id": "d97b2857",
   "metadata": {},
   "outputs": [],
   "source": [
    "def gen_df_sigma():\n",
    "    \n",
    "    df = pd.DataFrame()\n",
    "    for j in tqdm(list_code6):\n",
    "        df_ = df_code6[df_code6['gvkey_hscode6']==j].sort_values(by=['period'])\n",
    "        df_ = df_[3:]\n",
    "        df = df.append(get_sigmaR(df_))\n",
    "\n",
    "    df_sigma = df.copy()\n",
    "    return df_sigma"
   ]
  },
  {
   "cell_type": "code",
   "execution_count": 11,
   "id": "63aa3ee6",
   "metadata": {},
   "outputs": [],
   "source": [
    "def get_df_sigma():\n",
    "    df_sigma = pd.read_csv(os.path.join('DATA', 'df_sigma.csv'))\n",
    "    df_sigma.drop(columns=['Unnamed: 0'], inplace=True)\n",
    "    print(df_sigma.shape)\n",
    "    return df_sigma"
   ]
  },
  {
   "cell_type": "code",
   "execution_count": 12,
   "id": "d88c6b4d",
   "metadata": {},
   "outputs": [],
   "source": [
    "def get_df_country_vol():\n",
    "    df = pd.DataFrame()\n",
    "    for code2 in tqdm(['87','64','85','94','63','62','61','59','95']): \n",
    "        df_ = get_data(df_panjiva, code2, measure=measure, hscode6=hscode6, period=period, source=source, years=[2009,2019])\n",
    "        df = df.append(df_)\n",
    "    return df"
   ]
  },
  {
   "cell_type": "code",
   "execution_count": 13,
   "id": "a4c6bc4c",
   "metadata": {},
   "outputs": [],
   "source": [
    "def get_list_code6():\n",
    "    \"\"\" \n",
    "    La lista `gvkey_hscode6` tiene el volumeteu total para cada (gvkey_hscode6, date) \n",
    "    con mas (o igual) de 30 periodos de importacion (>=minN). \n",
    "    \"\"\"\n",
    "    df_sigma = pd.read_csv(os.path.join('DATA', 'df_sigma.csv'))\n",
    "    list_code6 = list(df_sigma['gvkey_hscode6'].unique())\n",
    "    return list_code6"
   ]
  },
  {
   "cell_type": "code",
   "execution_count": 28,
   "id": "bfbc26ca",
   "metadata": {},
   "outputs": [],
   "source": [
    "def gen_df_countries():\n",
    "\n",
    "    list_code6 = get_list_code6()\n",
    "    df = get_df_country_vol()\n",
    "\n",
    "    df[\"gvkey_hscode6\"] = df['gvkey'].astype(str) +\"_\"+ df[\"hscode6\"].astype(str)\n",
    "    df = df[df['gvkey_hscode6'].isin(list_code6)]\n",
    "    \n",
    "    # ['Hong Kong', 'Taiwan'] == 'China'\n",
    "    df.loc[df['country'] == \"Taiwan\", 'country'] = 'China'\n",
    "    df.loc[df['country'] == \"Hong Kong\", 'country'] = 'China'\n",
    "    \n",
    "    # agrupa importaciones del mismo pais en um mismo quarter\n",
    "    cols = list(df.columns) \n",
    "    cols.remove('vol')\n",
    "    df = df.groupby(cols).sum() \n",
    "    df.reset_index(inplace=True)\n",
    "    \n",
    "    df['vol%'] = 100 * df['vol'] / df.groupby(['gvkey_hscode6', 'date'])['vol'].transform(sum)\n",
    "    \n",
    "    return df"
   ]
  },
  {
   "cell_type": "code",
   "execution_count": 29,
   "id": "c9874297",
   "metadata": {},
   "outputs": [],
   "source": [
    "def get_df_countries():\n",
    "    df_countries = pd.read_csv(os.path.join('DATA', 'df_countries.csv'))\n",
    "    df_countries.drop(columns=['Unnamed: 0'], inplace=True)\n",
    "    return df_countries"
   ]
  },
  {
   "cell_type": "code",
   "execution_count": 16,
   "id": "697acaf1",
   "metadata": {},
   "outputs": [],
   "source": [
    "def gen_df_source1():\n",
    "\n",
    "    df = df_countries.copy()\n",
    "    df.drop(columns=['gvkey', 'hscode6', 'code2'], inplace=True)\n",
    "    df.rename(columns={'country': 'source1'}, inplace=True)\n",
    "    df.reset_index(inplace=True, drop=True)\n",
    "\n",
    "    df_source1 = df.loc[df.groupby(['gvkey_hscode6', 'date'])['vol'].idxmax()] #, 'vol%'\n",
    "    return df_source1"
   ]
  },
  {
   "cell_type": "code",
   "execution_count": 17,
   "id": "2b4e899b",
   "metadata": {},
   "outputs": [],
   "source": [
    "def gen_df_panel():\n",
    "    df_panel = pd.merge(df_sigma, df_source1, how=\"left\", on=['date', 'gvkey_hscode6'])\n",
    "    df_panel.drop(columns=['vol_y'], inplace=True)\n",
    "    df_panel.rename(columns={\"vol_x\": \"vol\"}, inplace=True)\n",
    "    return df_panel"
   ]
  },
  {
   "cell_type": "code",
   "execution_count": null,
   "id": "dc45056f",
   "metadata": {},
   "outputs": [],
   "source": []
  },
  {
   "cell_type": "code",
   "execution_count": 18,
   "id": "a6770fd3",
   "metadata": {},
   "outputs": [],
   "source": [
    "f = open('hscode2.json')\n",
    "hscode2 = json.load(f) \n",
    "f.close()"
   ]
  },
  {
   "cell_type": "code",
   "execution_count": 19,
   "id": "71f02de0",
   "metadata": {},
   "outputs": [
    {
     "name": "stdout",
     "output_type": "stream",
     "text": [
      "Wall time: 7.46 s\n"
     ]
    }
   ],
   "source": [
    "%%time\n",
    "df_panjiva = get_panjiva()"
   ]
  },
  {
   "cell_type": "code",
   "execution_count": 20,
   "id": "5bf6489e",
   "metadata": {
    "scrolled": true
   },
   "outputs": [
    {
     "name": "stderr",
     "output_type": "stream",
     "text": [
      "100%|████████████████████████████████████████████████████████████████████████████████████| 9/9 [01:53<00:00, 12.61s/it]"
     ]
    },
    {
     "name": "stdout",
     "output_type": "stream",
     "text": [
      "Wall time: 1min 53s\n"
     ]
    },
    {
     "name": "stderr",
     "output_type": "stream",
     "text": [
      "\n"
     ]
    }
   ],
   "source": [
    "%%time\n",
    "df_vol = gen_df_vol()"
   ]
  },
  {
   "cell_type": "code",
   "execution_count": 21,
   "id": "bfdffbe5",
   "metadata": {},
   "outputs": [
    {
     "name": "stdout",
     "output_type": "stream",
     "text": [
      "Wall time: 594 ms\n"
     ]
    }
   ],
   "source": [
    "%%time\n",
    "df_vol = get_df_vol()"
   ]
  },
  {
   "cell_type": "code",
   "execution_count": 22,
   "id": "a22cdaff",
   "metadata": {},
   "outputs": [
    {
     "name": "stdout",
     "output_type": "stream",
     "text": [
      "Wall time: 1.55 s\n"
     ]
    }
   ],
   "source": [
    "%%time\n",
    "df_code6 = get_data_code6(df_vol, minN)"
   ]
  },
  {
   "cell_type": "code",
   "execution_count": 23,
   "id": "19d9081d",
   "metadata": {},
   "outputs": [],
   "source": [
    "list_code6 = list(df_code6['gvkey_hscode6'].unique())"
   ]
  },
  {
   "cell_type": "code",
   "execution_count": 31,
   "id": "679fd74f",
   "metadata": {},
   "outputs": [
    {
     "name": "stderr",
     "output_type": "stream",
     "text": [
      "100%|██████████████████████████████████████████████████████████████████████████████| 5065/5065 [02:32<00:00, 33.30it/s]\n"
     ]
    }
   ],
   "source": [
    "df_sigma = gen_df_sigma()"
   ]
  },
  {
   "cell_type": "code",
   "execution_count": 32,
   "id": "66c0d449",
   "metadata": {},
   "outputs": [],
   "source": [
    "df_sigma.to_csv(os.path.join('DATA', 'df_sigma.csv'))"
   ]
  },
  {
   "cell_type": "code",
   "execution_count": 33,
   "id": "9efd2bf7",
   "metadata": {},
   "outputs": [
    {
     "name": "stdout",
     "output_type": "stream",
     "text": [
      "(173204, 18)\n"
     ]
    }
   ],
   "source": [
    "df_sigma = get_df_sigma()"
   ]
  },
  {
   "cell_type": "code",
   "execution_count": 34,
   "id": "98e7fb8d",
   "metadata": {},
   "outputs": [
    {
     "name": "stderr",
     "output_type": "stream",
     "text": [
      "100%|████████████████████████████████████████████████████████████████████████████████████| 9/9 [01:46<00:00, 11.86s/it]\n"
     ]
    },
    {
     "name": "stdout",
     "output_type": "stream",
     "text": [
      "Wall time: 1min 48s\n"
     ]
    }
   ],
   "source": [
    "%%time\n",
    "df_countries = gen_df_countries()"
   ]
  },
  {
   "cell_type": "code",
   "execution_count": 35,
   "id": "a5499640",
   "metadata": {},
   "outputs": [],
   "source": [
    "df_countries.to_csv(os.path.join('DATA', 'df_countries.csv'))"
   ]
  },
  {
   "cell_type": "code",
   "execution_count": 36,
   "id": "d7f08df6",
   "metadata": {},
   "outputs": [],
   "source": [
    "df_countries = get_df_countries()"
   ]
  },
  {
   "cell_type": "code",
   "execution_count": 37,
   "id": "70b287a8",
   "metadata": {},
   "outputs": [],
   "source": [
    "df_source1 = gen_df_source1()"
   ]
  },
  {
   "cell_type": "code",
   "execution_count": 38,
   "id": "5eae98d2",
   "metadata": {},
   "outputs": [],
   "source": [
    "df_panel = gen_df_panel()"
   ]
  },
  {
   "cell_type": "code",
   "execution_count": 39,
   "id": "1c983ac3",
   "metadata": {},
   "outputs": [],
   "source": [
    "df_panel.to_csv(os.path.join('DATA', 'panel.csv'))"
   ]
  },
  {
   "cell_type": "code",
   "execution_count": null,
   "id": "76fc9794",
   "metadata": {},
   "outputs": [],
   "source": []
  },
  {
   "cell_type": "code",
   "execution_count": null,
   "id": "997136d5",
   "metadata": {},
   "outputs": [],
   "source": [
    "# df50 = df_countries[df_countries['vol%']==50].copy()\n",
    "# df50"
   ]
  },
  {
   "cell_type": "code",
   "execution_count": null,
   "id": "ef88b13a",
   "metadata": {},
   "outputs": [],
   "source": [
    "# dictio = dict()\n",
    "# indices = list(df50['gvkey_hscode6'].unique())\n",
    "# for i in indices:\n",
    "#     for date in df50[df50['gvkey_hscode6']==i]['date']:\n",
    "#         df_ = df50[np.logical_and(df50['gvkey_hscode6']==i, df50['date']==date)]\n",
    "#         countries = list(df_['country'])\n",
    "#         dictio[(i, date)] = countries"
   ]
  },
  {
   "cell_type": "code",
   "execution_count": null,
   "id": "36bc2b81",
   "metadata": {},
   "outputs": [],
   "source": [
    "# df_source1 = df_countries.loc[df_countries.groupby(['gvkey', 'hscode6', 'date'])['vol'].idxmax()]\n",
    "# df_source1.rename(columns={'country': 'source1'}, inplace=True)\n",
    "# df_source1.drop(columns=['gvkey', 'hscode6', 'vol', 'code2', 'vol%'], inplace=True)"
   ]
  },
  {
   "cell_type": "code",
   "execution_count": null,
   "id": "dda6fa8e",
   "metadata": {},
   "outputs": [],
   "source": [
    "# key1 = '1300_870323'\n",
    "# key2 = '2009-04-01'\n",
    "# for key1, key2 in tqdm(dictio):\n",
    "#     lista = dictio[(key1, key2)]\n",
    "\n",
    "#     if len(lista)==1: continue\n",
    "\n",
    "#     df = df_source1[df_source1['gvkey_hscode6']==key1]\n",
    "    \n",
    "#     pos = list(df['date']).index(key2)\n",
    "#     pos_cerca = pos-1\n",
    "#     if pos==0: pos_cerca = 1\n",
    "    \n",
    "#     antiguo = list(df['source1'])[pos]\n",
    "#     nuevo = list(df['source1'])[pos_cerca]\n",
    "\n",
    "#     if nuevo in lista:\n",
    "#         df_source1[df_source1['gvkey_hscode6']==key1].iloc[pos]['source1'] = nuevo\n"
   ]
  },
  {
   "cell_type": "code",
   "execution_count": null,
   "id": "b67d1a1e",
   "metadata": {},
   "outputs": [],
   "source": []
  }
 ],
 "metadata": {
  "kernelspec": {
   "display_name": "Python 3",
   "language": "python",
   "name": "python3"
  },
  "language_info": {
   "codemirror_mode": {
    "name": "ipython",
    "version": 3
   },
   "file_extension": ".py",
   "mimetype": "text/x-python",
   "name": "python",
   "nbconvert_exporter": "python",
   "pygments_lexer": "ipython3",
   "version": "3.8.8"
  }
 },
 "nbformat": 4,
 "nbformat_minor": 5
}
